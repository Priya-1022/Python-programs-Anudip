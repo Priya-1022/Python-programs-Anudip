{
 "cells": [
  {
   "cell_type": "code",
   "execution_count": 1,
   "id": "e8ad3855",
   "metadata": {},
   "outputs": [
    {
     "name": "stdout",
     "output_type": "stream",
     "text": [
      "Myhousehold Expenses:-\n",
      "Groceries          500\n",
      "Utilities          200\n",
      "Rent              1200\n",
      "Transportation     300\n",
      "Entertainment      150\n",
      "dtype: int64\n"
     ]
    }
   ],
   "source": [
    "#Q1.  Suppose you want to track and analyse your household expenses for a month.\n",
    "#You have recorded the expenses for various categories, such as groceries, utilities,\n",
    "#rent, transportation, and entertainment. You can represent this expense data using a Pandas Series.\n",
    "# Input:\n",
    "#categories = ['Groceries', 'Utilities', 'Rent', 'Transportation', 'Entertainment']\n",
    "#expenses = [500, 200, 1200, 300, 150]\n",
    "\n",
    "import pandas as pd\n",
    "\n",
    "def show_myhousehold_expenses():\n",
    "    #input datas\n",
    "    categories= ['Groceries', 'Utilities', 'Rent', 'Transportation', 'Entertainment']\n",
    "    expenses= [500, 200, 1200, 300, 150]\n",
    "    #create pandas series to show data in series\n",
    "    myhousehold_expenses=pd.Series(expenses,categories)\n",
    "    #show Series\n",
    "    print(\"Myhousehold Expenses:-\")\n",
    "    print(myhousehold_expenses)\n",
    "\n",
    "show_myhousehold_expenses()"
   ]
  },
  {
   "cell_type": "code",
   "execution_count": null,
   "id": "b725dbf2",
   "metadata": {},
   "outputs": [],
   "source": []
  }
 ],
 "metadata": {
  "kernelspec": {
   "display_name": "Python 3 (ipykernel)",
   "language": "python",
   "name": "python3"
  },
  "language_info": {
   "codemirror_mode": {
    "name": "ipython",
    "version": 3
   },
   "file_extension": ".py",
   "mimetype": "text/x-python",
   "name": "python",
   "nbconvert_exporter": "python",
   "pygments_lexer": "ipython3",
   "version": "3.11.5"
  }
 },
 "nbformat": 4,
 "nbformat_minor": 5
}
