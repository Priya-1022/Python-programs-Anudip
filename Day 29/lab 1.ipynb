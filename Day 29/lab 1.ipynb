{
 "cells": [
  {
   "cell_type": "code",
   "execution_count": 15,
   "id": "e8ad3855",
   "metadata": {},
   "outputs": [
    {
     "name": "stdout",
     "output_type": "stream",
     "text": [
      "Original DataFrame:\n",
      "     Region  Manager   SalesMan          Item  Units  Unit_price  Sale_amt\n",
      "0      East   Martha  Alexander    Television     95      1198.0  113810.0\n",
      "1   Central  Hermann     Shelli  Home Theater     50       500.0   25000.0\n",
      "2   Central  Hermann       Luis    Television     36      1198.0   43128.0\n",
      "3   Central  Timothy      David    Cell Phone     27       225.0    6075.0\n",
      "4      West  Timothy    Stephen    Television     56      1198.0   67088.0\n",
      "5      East   Martha  Alexander  Home Theater     60       500.0   30000.0\n",
      "6   Central   Martha     Steven    Television     75      1198.0   89850.0\n",
      "7   Central  Hermann       Luis    Television     90      1198.0  107820.0\n",
      "8      West  Douglas    Michael    Television     32      1198.0   38336.0\n",
      "9      East   Martha  Alexander  Home Theater     60       500.0   30000.0\n",
      "10  Central  Hermann      Sigal    Television     90      1198.0  107820.0\n",
      "11     East   Martha      Diana  Home Theater     29       500.0   14500.0\n",
      "12     East  Douglas      Karen  Home Theater     81       500.0   40500.0\n",
      "13     East   Martha  Alexander    Television     35      1198.0   41930.0\n",
      "14  Central  Douglas       John          Desk      2       125.0     250.0\n",
      "15     East   Martha  Alexander   Video Games     16        58.5     936.0\n",
      "16  Central  Hermann      Sigal  Home Theater     28       500.0   14000.0\n",
      "17     East   Martha  Alexander    Cell Phone     64       225.0   14400.0\n",
      "18     East  Douglas      Karen    Cell Phone     15       225.0    3375.0\n",
      "19  Central  Hermann     Shelli   Video Games     96        58.5    5616.0\n",
      "20  Central  Douglas       John    Television     67      1198.0   80266.0\n",
      "21     East  Douglas      Karen   Video Games     74        58.5    4329.0\n",
      "22  Central  Timothy      David  Home Theater     46       500.0   23000.0\n",
      "23  Central  Douglas       John  Home Theater     87       500.0   43500.0\n",
      "24     East   Martha  Alexander  Home Theater      4       500.0    2000.0\n",
      "25     West  Timothy    Stephen  Home Theater      7       500.0    3500.0\n",
      "26  Central  Hermann       Luis   Video Games     50        58.5    2925.0\n",
      "27  Central   Martha     Steven    Television     66      1198.0   79068.0\n",
      "28     East   Martha      Diana    Cell Phone     96       225.0   21600.0\n",
      "29  Central  Timothy      David    Television     53      1198.0   63494.0\n",
      "30  Central  Timothy      David  Home Theater     80       500.0   40000.0\n",
      "31  Central  Hermann     Shelli          Desk      5       125.0     625.0\n",
      "32     East   Martha  Alexander   Video Games     62        58.5    3627.0\n",
      "33  Central  Hermann      Sigal   Video Games     55        58.5    3217.5\n",
      "34  Central  Hermann     Shelli   Video Games     42        58.5    2457.0\n",
      "35     West  Timothy    Stephen          Desk      3       125.0     375.0\n",
      "36  Central  Timothy      David    Television      7      1198.0    8386.0\n",
      "37     West  Timothy    Stephen    Cell Phone     76       225.0   17100.0\n",
      "38     West  Douglas    Michael  Home Theater     57       500.0   28500.0\n",
      "39  Central   Martha     Steven    Television     14      1198.0   16772.0\n",
      "40  Central  Hermann       Luis  Home Theater     11       500.0    5500.0\n",
      "41  Central  Hermann       Luis  Home Theater     94       500.0   47000.0\n",
      "42  Central    Marth     Steven  Home Theater     28       500.0   14000.0\n",
      "\n"
     ]
    }
   ],
   "source": [
    "import pandas as pd\n",
    "\n",
    "# Load the CSV file into a DataFrame\n",
    "sales_data = pd.read_csv('salesdata.csv')\n",
    "\n",
    "# Display the original DataFrame\n",
    "print(\"Original DataFrame:\")\n",
    "print(sales_data)\n",
    "print()"
   ]
  },
  {
   "cell_type": "code",
   "execution_count": 18,
   "id": "97f24fa6",
   "metadata": {},
   "outputs": [
    {
     "name": "stdout",
     "output_type": "stream",
     "text": [
      "Total Sale Amount Region-wise:\n",
      "         Sale_amt\n",
      "Region           \n",
      "Central  829769.5\n",
      "East     321007.0\n",
      "West     154899.0\n",
      "\n"
     ]
    }
   ],
   "source": [
    "# Create a Pivot table to find total sale amount region-wise\n",
    "region_pivot = pd.pivot_table(sales_data, values='Sale_amt', index='Region', aggfunc='sum')\n",
    "print(\"Total Sale Amount Region-wise:\")\n",
    "print(region_pivot)\n",
    "print()"
   ]
  },
  {
   "cell_type": "code",
   "execution_count": 20,
   "id": "bff3a71c",
   "metadata": {},
   "outputs": [
    {
     "name": "stdout",
     "output_type": "stream",
     "text": [
      "Total Sale Amount Manager-wise:\n",
      "         Sale_amt\n",
      "Manager          \n",
      "Douglas  239056.0\n",
      "Hermann  365108.5\n",
      "Marth     14000.0\n",
      "Martha   458493.0\n",
      "Timothy  229018.0\n",
      "\n"
     ]
    }
   ],
   "source": [
    "# Create a Pivot table to find total sale amount manager-wise\n",
    "manager_pivot = pd.pivot_table(sales_data, values='Sale_amt', index='Manager', aggfunc='sum')\n",
    "print(\"Total Sale Amount Manager-wise:\")\n",
    "print(manager_pivot)\n",
    "print()"
   ]
  },
  {
   "cell_type": "code",
   "execution_count": 23,
   "id": "c881ab0a",
   "metadata": {},
   "outputs": [
    {
     "name": "stdout",
     "output_type": "stream",
     "text": [
      "Total Sale Amount Salesman-wise:\n",
      "           Sale_amt\n",
      "SalesMan           \n",
      "Alexander  236703.0\n",
      "David      140955.0\n",
      "Diana       36100.0\n",
      "John       124016.0\n",
      "Karen       48204.0\n",
      "Luis       206373.0\n",
      "Michael     66836.0\n",
      "Shelli      33698.0\n",
      "Sigal      125037.5\n",
      "Stephen     88063.0\n",
      "Steven     199690.0\n"
     ]
    }
   ],
   "source": [
    "# Create a Pivot table to find total sale amount salesman-wise\n",
    "salesman_pivot = pd.pivot_table(sales_data, values='Sale_amt', index='SalesMan', aggfunc='sum')\n",
    "print(\"Total Sale Amount Salesman-wise:\")\n",
    "print(salesman_pivot)"
   ]
  }
 ],
 "metadata": {
  "kernelspec": {
   "display_name": "Python 3 (ipykernel)",
   "language": "python",
   "name": "python3"
  },
  "language_info": {
   "codemirror_mode": {
    "name": "ipython",
    "version": 3
   },
   "file_extension": ".py",
   "mimetype": "text/x-python",
   "name": "python",
   "nbconvert_exporter": "python",
   "pygments_lexer": "ipython3",
   "version": "3.11.5"
  }
 },
 "nbformat": 4,
 "nbformat_minor": 5
}
