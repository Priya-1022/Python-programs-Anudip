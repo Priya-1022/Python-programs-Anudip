{
 "cells": [
  {
   "cell_type": "code",
   "execution_count": 28,
   "id": "fc8285fa",
   "metadata": {},
   "outputs": [
    {
     "name": "stdout",
     "output_type": "stream",
     "text": [
      "Original DataFrame:\n",
      "    Region  Manager   SalesMan          Item  Units  Unit_price  Sale_amt\n",
      "0     East   Martha  Alexander    Television     95      1198.0  113810.0\n",
      "1  Central  Hermann     Shelli  Home Theater     50       500.0   25000.0\n",
      "2  Central  Hermann       Luis    Television     36      1198.0   43128.0\n",
      "3  Central  Timothy      David    Cell Phone     27       225.0    6075.0\n",
      "4     West  Timothy    Stephen    Television     56      1198.0   67088.0\n",
      "\n",
      "Item-wise Unit Sold:\n",
      "              Units\n",
      "Item               \n",
      "Cell Phone      278\n",
      "Desk             10\n",
      "Home Theater    722\n",
      "Television      716\n",
      "Video Games     395\n"
     ]
    }
   ],
   "source": [
    "import pandas as pd\n",
    "\n",
    "# Load the CSV file into a DataFrame\n",
    "sales_data = pd.read_csv('salesdata.csv')\n",
    "\n",
    "# Display the original DataFrame\n",
    "print(\"Original DataFrame:\")\n",
    "print(sales_data.head())\n",
    "print()\n",
    "\n",
    "# Create a Pivot table to find item-wise unit sold\n",
    "item_pivot = pd.pivot_table(sales_data, values='Units', index='Item', aggfunc='sum')\n",
    "print(\"Item-wise Unit Sold:\")\n",
    "print(item_pivot)\n"
   ]
  },
  {
   "cell_type": "code",
   "execution_count": null,
   "id": "e3113e85",
   "metadata": {},
   "outputs": [],
   "source": []
  }
 ],
 "metadata": {
  "kernelspec": {
   "display_name": "Python 3 (ipykernel)",
   "language": "python",
   "name": "python3"
  },
  "language_info": {
   "codemirror_mode": {
    "name": "ipython",
    "version": 3
   },
   "file_extension": ".py",
   "mimetype": "text/x-python",
   "name": "python",
   "nbconvert_exporter": "python",
   "pygments_lexer": "ipython3",
   "version": "3.11.5"
  }
 },
 "nbformat": 4,
 "nbformat_minor": 5
}
