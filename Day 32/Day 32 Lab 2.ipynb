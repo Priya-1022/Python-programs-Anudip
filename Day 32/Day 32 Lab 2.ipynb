{
 "cells": [
  {
   "cell_type": "code",
   "execution_count": 29,
   "id": "608ae7bc",
   "metadata": {},
   "outputs": [],
   "source": [
    "import pandas as pd\n",
    "import scipy\n",
    "from scipy import constants as cons"
   ]
  },
  {
   "cell_type": "code",
   "execution_count": 30,
   "id": "ba389190",
   "metadata": {},
   "outputs": [
    {
     "name": "stdout",
     "output_type": "stream",
     "text": [
      "       Name  Height (inches)\n",
      "0  Person 1            60.03\n",
      "1  Person 2            49.51\n",
      "2  Person 3            82.97\n",
      "3  Person 4            64.19\n",
      "4  Person 5            54.42\n"
     ]
    }
   ],
   "source": [
    "df= pd.read_csv (\" https://raw.githubusercontent.com/AnudipAE/DANLC/master/people_heights.csv \")\n",
    "print(df.head())"
   ]
  },
  {
   "cell_type": "code",
   "execution_count": 32,
   "id": "caa1241b",
   "metadata": {},
   "outputs": [
    {
     "name": "stdout",
     "output_type": "stream",
     "text": [
      "       Name  Height (inches)  Height(cm)\n",
      "0  Person 1            60.03    152.4762\n",
      "1  Person 2            49.51    125.7554\n",
      "2  Person 3            82.97    210.7438\n",
      "3  Person 4            64.19    163.0426\n",
      "4  Person 5            54.42    138.2268\n"
     ]
    }
   ],
   "source": [
    "df['Height(cm)'] = cons.inch*df['Height (inches)'] * 100\n",
    "print(df.head())"
   ]
  },
  {
   "cell_type": "code",
   "execution_count": 35,
   "id": "c0199da1",
   "metadata": {},
   "outputs": [
    {
     "name": "stdout",
     "output_type": "stream",
     "text": [
      "\n",
      "Calculated area results saved to: person_height.csv\n"
     ]
    }
   ],
   "source": [
    "df.to_csv(\"person_height.csv\", index=False)\n",
    "print(\"\\nCalculated area results saved to: person_height.csv\")"
   ]
  }
 ],
 "metadata": {
  "kernelspec": {
   "display_name": "Python 3 (ipykernel)",
   "language": "python",
   "name": "python3"
  },
  "language_info": {
   "codemirror_mode": {
    "name": "ipython",
    "version": 3
   },
   "file_extension": ".py",
   "mimetype": "text/x-python",
   "name": "python",
   "nbconvert_exporter": "python",
   "pygments_lexer": "ipython3",
   "version": "3.11.5"
  }
 },
 "nbformat": 4,
 "nbformat_minor": 5
}
