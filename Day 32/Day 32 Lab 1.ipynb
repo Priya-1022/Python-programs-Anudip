{
 "cells": [
  {
   "cell_type": "code",
   "execution_count": 9,
   "id": "c96ee091",
   "metadata": {},
   "outputs": [],
   "source": [
    "import pandas as pd\n",
    "import scipy\n",
    "\n",
    "from scipy import constants as cons"
   ]
  },
  {
   "cell_type": "code",
   "execution_count": 11,
   "id": "c6cc86f7",
   "metadata": {
    "scrolled": true
   },
   "outputs": [
    {
     "name": "stdout",
     "output_type": "stream",
     "text": [
      "              Radius\n",
      "CircleName          \n",
      "SAY         3.798717\n",
      "PSN         9.958397\n",
      "JDP         5.142711\n",
      "AUO         3.319584\n",
      "OHG         1.138395\n"
     ]
    },
    {
     "data": {
      "text/html": [
       "<div>\n",
       "<style scoped>\n",
       "    .dataframe tbody tr th:only-of-type {\n",
       "        vertical-align: middle;\n",
       "    }\n",
       "\n",
       "    .dataframe tbody tr th {\n",
       "        vertical-align: top;\n",
       "    }\n",
       "\n",
       "    .dataframe thead th {\n",
       "        text-align: right;\n",
       "    }\n",
       "</style>\n",
       "<table border=\"1\" class=\"dataframe\">\n",
       "  <thead>\n",
       "    <tr style=\"text-align: right;\">\n",
       "      <th></th>\n",
       "      <th>Radius</th>\n",
       "      <th>Area</th>\n",
       "    </tr>\n",
       "    <tr>\n",
       "      <th>CircleName</th>\n",
       "      <th></th>\n",
       "      <th></th>\n",
       "    </tr>\n",
       "  </thead>\n",
       "  <tbody>\n",
       "    <tr>\n",
       "      <th>SAY</th>\n",
       "      <td>3.798717</td>\n",
       "      <td>45.333960</td>\n",
       "    </tr>\n",
       "    <tr>\n",
       "      <th>PSN</th>\n",
       "      <td>9.958397</td>\n",
       "      <td>311.550720</td>\n",
       "    </tr>\n",
       "    <tr>\n",
       "      <th>JDP</th>\n",
       "      <td>5.142711</td>\n",
       "      <td>83.087197</td>\n",
       "    </tr>\n",
       "    <tr>\n",
       "      <th>AUO</th>\n",
       "      <td>3.319584</td>\n",
       "      <td>34.619210</td>\n",
       "    </tr>\n",
       "    <tr>\n",
       "      <th>OHG</th>\n",
       "      <td>1.138395</td>\n",
       "      <td>4.071325</td>\n",
       "    </tr>\n",
       "  </tbody>\n",
       "</table>\n",
       "</div>"
      ],
      "text/plain": [
       "              Radius        Area\n",
       "CircleName                      \n",
       "SAY         3.798717   45.333960\n",
       "PSN         9.958397  311.550720\n",
       "JDP         5.142711   83.087197\n",
       "AUO         3.319584   34.619210\n",
       "OHG         1.138395    4.071325"
      ]
     },
     "execution_count": 11,
     "metadata": {},
     "output_type": "execute_result"
    }
   ],
   "source": [
    "url = 'https://raw.githubusercontent.com/AnudipAE/DANLC/master/radius_data.csv'\n",
    "df = pd.read_csv(url, index_col=0)\n",
    "print(df.head(5))\n",
    "df['Area']= df['Radius']**2*cons.pi\n",
    "df.head()"
   ]
  },
  {
   "cell_type": "code",
   "execution_count": 18,
   "id": "452877da",
   "metadata": {},
   "outputs": [
    {
     "name": "stdout",
     "output_type": "stream",
     "text": [
      "\n",
      " Save Results to :  circle_area_results.csv\n"
     ]
    }
   ],
   "source": [
    "output_file= ' circle_area_results.csv'\n",
    "df.to_csv(output_file, index=False)\n",
    "print(f\"\\n Save Results to : {output_file}\")"
   ]
  }
 ],
 "metadata": {
  "kernelspec": {
   "display_name": "Python 3 (ipykernel)",
   "language": "python",
   "name": "python3"
  },
  "language_info": {
   "codemirror_mode": {
    "name": "ipython",
    "version": 3
   },
   "file_extension": ".py",
   "mimetype": "text/x-python",
   "name": "python",
   "nbconvert_exporter": "python",
   "pygments_lexer": "ipython3",
   "version": "3.11.5"
  }
 },
 "nbformat": 4,
 "nbformat_minor": 5
}
