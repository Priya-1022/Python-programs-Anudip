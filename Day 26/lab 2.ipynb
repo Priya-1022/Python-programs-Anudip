{
 "cells": [
  {
   "cell_type": "code",
   "execution_count": 5,
   "id": "e8ad3855",
   "metadata": {},
   "outputs": [
    {
     "name": "stdout",
     "output_type": "stream",
     "text": [
      "First 3 rows of the DataFrame:\n",
      "        name  score qualify  attempts\n",
      "0  Anastasia   12.5     yes         1\n",
      "1       Dina    9.0      no         3\n",
      "2  Katherine   16.5     yes         2\n"
     ]
    }
   ],
   "source": [
    "import pandas as pd\n",
    "import numpy as np\n",
    "def show_Dataframe_First3():\n",
    "\n",
    "    # Input data\n",
    "    exam_data = {\n",
    "        'name': [\"Anastasia\", \"Dina\", \"Katherine\", \"James\", \"Emily\",\n",
    "                 \"Michael\", \"Matthew\", \"Laura\", \"Kevin\", \"Jonas\"],\n",
    "        'score': [12.5, 9, 16.5, np.nan, 9, 20, 14.5, np.nan, 8, 19],\n",
    "        'qualify': ['yes', 'no', 'yes', 'no', 'no', 'yes', 'yes', 'no', 'no', 'yes'],\n",
    "        'attempts': [1, 3, 2, 3, 2, 3, 1, 1, 2, 1]\n",
    "    }\n",
    "\n",
    "    # Create DataFrame with input data (exam_data)\n",
    "    exam_dataframe = pd.DataFrame(exam_data)\n",
    "\n",
    "    # Get the first 3 rows from exam_dataframe\n",
    "    first3_rows = exam_dataframe.head(3)\n",
    "\n",
    "    # Show the first 3 rows result\n",
    "    print(\"First 3 rows of the DataFrame:\")\n",
    "    print(first3_rows)\n",
    "\n",
    "show_Dataframe_First3()"
   ]
  },
  {
   "cell_type": "code",
   "execution_count": null,
   "id": "5018c6ad",
   "metadata": {},
   "outputs": [],
   "source": []
  }
 ],
 "metadata": {
  "kernelspec": {
   "display_name": "Python 3 (ipykernel)",
   "language": "python",
   "name": "python3"
  },
  "language_info": {
   "codemirror_mode": {
    "name": "ipython",
    "version": 3
   },
   "file_extension": ".py",
   "mimetype": "text/x-python",
   "name": "python",
   "nbconvert_exporter": "python",
   "pygments_lexer": "ipython3",
   "version": "3.11.5"
  }
 },
 "nbformat": 4,
 "nbformat_minor": 5
}
