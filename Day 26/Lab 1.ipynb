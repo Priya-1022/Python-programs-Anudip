{
 "cells": [
  {
   "cell_type": "code",
   "execution_count": 3,
   "id": "e8ad3855",
   "metadata": {},
   "outputs": [
    {
     "name": "stdout",
     "output_type": "stream",
     "text": [
      "A Dataframe from a Dictionary: \n",
      "   Math  English  Hindi\n",
      "0    78       84     86\n",
      "1    85       94     97\n",
      "2    96       89     96\n",
      "3    80       83     72\n",
      "4    86       86     83\n"
     ]
    }
   ],
   "source": [
    "import pandas as pd\n",
    "\n",
    "def create_my_DataFrame():\n",
    "    score = {\n",
    "        'Math': [78, 85, 96, 80, 86],\n",
    "        'English': [84, 94, 89, 83, 86],\n",
    "        'Hindi': [86, 97, 96, 72, 83]\n",
    "    }\n",
    "\n",
    "    # Create DataFrame with score\n",
    "    my_dataFrame = pd.DataFrame(score)\n",
    "\n",
    "    print(\"A Dataframe from a Dictionary: \")\n",
    "    print(my_dataFrame)\n",
    "\n",
    "create_my_DataFrame()\n"
   ]
  },
  {
   "cell_type": "code",
   "execution_count": null,
   "id": "98266faa",
   "metadata": {},
   "outputs": [],
   "source": []
  }
 ],
 "metadata": {
  "kernelspec": {
   "display_name": "Python 3 (ipykernel)",
   "language": "python",
   "name": "python3"
  },
  "language_info": {
   "codemirror_mode": {
    "name": "ipython",
    "version": 3
   },
   "file_extension": ".py",
   "mimetype": "text/x-python",
   "name": "python",
   "nbconvert_exporter": "python",
   "pygments_lexer": "ipython3",
   "version": "3.11.5"
  }
 },
 "nbformat": 4,
 "nbformat_minor": 5
}
